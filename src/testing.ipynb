{
 "cells": [
  {
   "cell_type": "code",
   "execution_count": 2,
   "metadata": {},
   "outputs": [],
   "source": [
    "from qiskit import QuantumCircuit, QuantumRegister, ClassicalRegister, execute, Aer\n",
    "from qiskit.providers.aer import StatevectorSimulator\n",
    "from qiskit.visualization import plot_histogram\n",
    "import numpy as np"
   ]
  },
  {
   "cell_type": "code",
   "execution_count": 8,
   "metadata": {},
   "outputs": [
    {
     "name": "stdout",
     "output_type": "stream",
     "text": [
      "Statevector([0.70710678+0.j, 0.70710678+0.j, 0.        +0.j,\n",
      "             0.        +0.j],\n",
      "            dims=(2, 2))\n"
     ]
    }
   ],
   "source": [
    "# Create a Bell circuit\n",
    "qc = QuantumCircuit(2)\n",
    "# qc.ry(1,0)\n",
    "# qc.cx(0, 1)\n",
    "qc.h(0)\n",
    "\n",
    "# Obtain the statevector using StatevectorSimulator\n",
    "simulator = StatevectorSimulator()\n",
    "result = simulator.run(qc).result()\n",
    "psi = result.get_statevector()\n",
    "\n",
    "print(psi)\n"
   ]
  },
  {
   "cell_type": "code",
   "execution_count": 12,
   "metadata": {},
   "outputs": [
    {
     "name": "stdout",
     "output_type": "stream",
     "text": [
      "[0.5 0.5]\n"
     ]
    }
   ],
   "source": [
    "c = [1/np.sqrt(2), 1j/np.sqrt(2)]\n",
    "# apply modulus\n",
    "print(np.abs(c)**2)"
   ]
  },
  {
   "cell_type": "code",
   "execution_count": null,
   "metadata": {},
   "outputs": [],
   "source": []
  }
 ],
 "metadata": {
  "kernelspec": {
   "display_name": "Python 3.7.6 ('PyTorch Learning')",
   "language": "python",
   "name": "python3"
  },
  "language_info": {
   "codemirror_mode": {
    "name": "ipython",
    "version": 3
   },
   "file_extension": ".py",
   "mimetype": "text/x-python",
   "name": "python",
   "nbconvert_exporter": "python",
   "pygments_lexer": "ipython3",
   "version": "3.7.6"
  },
  "orig_nbformat": 4,
  "vscode": {
   "interpreter": {
    "hash": "c003fc70db3176c10438a4c604d3694780f731c3bb83c5c847f76489751692b4"
   }
  }
 },
 "nbformat": 4,
 "nbformat_minor": 2
}
