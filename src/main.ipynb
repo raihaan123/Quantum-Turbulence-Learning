{
 "cells": [
  {
   "attachments": {},
   "cell_type": "markdown",
   "metadata": {},
   "source": [
    "## Quantum Reservoir Computing for Chaotic Dynamics\n",
    "FYP Masters project by Raihaan Usman"
   ]
  },
  {
   "cell_type": "code",
   "execution_count": 1,
   "metadata": {},
   "outputs": [],
   "source": [
    "from backend.solver import Lorentz, MFE\n",
    "from backend import CRCM, QRCM\n",
    "\n",
    "import numpy as np\n",
    "import os;  os.environ[\"OMP_NUM_THREADS\"] = '32' # Imposes cores"
   ]
  },
  {
   "attachments": {},
   "cell_type": "markdown",
   "metadata": {},
   "source": [
    "#### Configuration for Lorentz system"
   ]
  },
  {
   "cell_type": "code",
   "execution_count": 2,
   "metadata": {},
   "outputs": [],
   "source": [
    "# Data generation parameters\n",
    "dim             = 3\n",
    "upsample        = 1                     # To increase the dt of the ESN wrt the numerical integrator\n",
    "dt              = 0.005 * upsample      # Time step\n",
    "params          = [8/3, 28, 10]         # Parameters for the Lorenz system\n",
    "\n",
    "# Define N for washout, training, validation and testing\n",
    "N_washout       = 50\n",
    "N_train         = 300\n",
    "N_test          = 50\n",
    "N_sets          = [N_washout, N_train, N_test]"
   ]
  },
  {
   "attachments": {},
   "cell_type": "markdown",
   "metadata": {},
   "source": [
    "#### CRCM for Lorenz system"
   ]
  },
  {
   "cell_type": "code",
   "execution_count": 3,
   "metadata": {},
   "outputs": [],
   "source": [
    "# # Initialise the ESN\n",
    "# crcm = CRCM(dim=dim,\n",
    "#             N_units=200,\n",
    "#             connectivity=3,\n",
    "#             seed=0)\n",
    "\n",
    "# # Train the ESN with the training data\n",
    "# crcm.train(data)"
   ]
  },
  {
   "attachments": {},
   "cell_type": "markdown",
   "metadata": {},
   "source": [
    "#### QRCM for Lorenz system"
   ]
  },
  {
   "cell_type": "code",
   "execution_count": 4,
   "metadata": {},
   "outputs": [
    {
     "name": "stderr",
     "output_type": "stream",
     "text": [
      "Washout: 100%|██████████| 50/50 [00:02<00:00, 17.54it/s]\n",
      "Training: 100%|██████████| 299/299 [00:13<00:00, 22.85it/s]\n",
      "Testing: 100%|██████████| 49/49 [00:02<00:00, 21.95it/s]"
     ]
    },
    {
     "name": "stdout",
     "output_type": "stream",
     "text": [
      "\n",
      "Train/test with 300/50 samples\n",
      "Using n = 2 qubits and epsilon = 0.01\n",
      "\n",
      "Training MSE: 30.46567891679985\n",
      "Time taken: 21.39060878753662\n"
     ]
    },
    {
     "name": "stderr",
     "output_type": "stream",
     "text": [
      "\n"
     ]
    }
   ],
   "source": [
    "# Instantiate the solver object\n",
    "lor3 = Lorentz(params, dt, N_sets)\n",
    "\n",
    "# Instantiate the QRCM object\n",
    "qrcm = QRCM(solver  = lor3,\n",
    "            qubits  = 2,\n",
    "            eps     = 0.01,\n",
    "            tik     = 1e-6)\n",
    "\n",
    "# Train the QRCM with the training data\n",
    "qrcm.train(override=True)"
   ]
  }
 ],
 "metadata": {
  "kernelspec": {
   "display_name": "PyTorch Learning",
   "language": "python",
   "name": "python3"
  },
  "language_info": {
   "codemirror_mode": {
    "name": "ipython",
    "version": 3
   },
   "file_extension": ".py",
   "mimetype": "text/x-python",
   "name": "python",
   "nbconvert_exporter": "python",
   "pygments_lexer": "ipython3",
   "version": "3.10.9"
  },
  "orig_nbformat": 4
 },
 "nbformat": 4,
 "nbformat_minor": 2
}
