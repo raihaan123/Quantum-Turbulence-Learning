{
 "cells": [
  {
   "attachments": {},
   "cell_type": "markdown",
   "metadata": {},
   "source": [
    "## Quantum Reservoir Computing for Chaotic Dynamics\n",
    "FYP Masters project by Raihaan Usman"
   ]
  },
  {
   "cell_type": "code",
   "execution_count": null,
   "metadata": {},
   "outputs": [
    {
     "ename": "",
     "evalue": "",
     "output_type": "error",
     "traceback": [
      "\u001b[1;31mRunning cells with 'PyTorch Learning' requires the ipykernel package.\n",
      "\u001b[1;31mRun the following command to install 'ipykernel' into the Python environment. \n",
      "\u001b[1;31mCommand: 'conda install -n PyTorch Learning ipykernel --update-deps --force-reinstall'"
     ]
    }
   ],
   "source": [
    "from backend.solver import Lorentz, MFE\n",
    "from backend import CRCM, QRCM\n",
    "\n",
    "import numpy as np\n",
    "import wandb\n",
    "import os;  os.environ[\"OMP_NUM_THREADS\"] = '32' # Imposes cores"
   ]
  },
  {
   "attachments": {},
   "cell_type": "markdown",
   "metadata": {},
   "source": [
    "#### Configuration for Lorentz system"
   ]
  },
  {
   "cell_type": "code",
   "execution_count": null,
   "metadata": {},
   "outputs": [],
   "source": [
    "# Set up WandB\n",
    "wandb.login()\n",
    "\n",
    "sweep_config = {\n",
    "    'method'    : 'bayes',\n",
    "    'name'      : 'QRCM sweep',\n",
    "    'metric'    : {\n",
    "        'name'  : 'MSE',\n",
    "        'goal'  : 'minimize'\n",
    "    },\n",
    "    'parameters'    : {\n",
    "        'qubits'    : {'values': [2, 4, 6]},\n",
    "        'epsilon'   : {'min': 0.0, 'max': 1.0},\n",
    "        'tikhonov'  : {'min': 1e-10, 'max': 1e-2},\n",
    "        'N_train'   : {'values': [50, 100, 300, 500, 1000, 2000]},\n",
    "        'N_test'    : {'values': [50, 100, 300, 500, 1000, 2000]}\n",
    "    }\n",
    "}\n",
    "\n",
    "sweep_id = wandb.sweep(sweep_config, project=\"Quantum Turbulence Learning\", entity=\"raihaan123\")\n",
    "\n",
    "# Data generation parameters\n",
    "dim             = 3\n",
    "upsample        = 1                     # To increase the dt of the ESN wrt the numerical integrator\n",
    "dt              = 0.005 * upsample      # Time step\n",
    "params          = [8/3, 28, 10]         # Parameters for the Lorenz system"
   ]
  },
  {
   "attachments": {},
   "cell_type": "markdown",
   "metadata": {},
   "source": [
    "#### CRCM for Lorenz system"
   ]
  },
  {
   "cell_type": "code",
   "execution_count": null,
   "metadata": {},
   "outputs": [],
   "source": [
    "\n",
    "\n",
    "# # Initialise the ESN\n",
    "# crcm = CRCM(dim=dim,\n",
    "#             N_units=200,\n",
    "#             connectivity=3,\n",
    "#             seed=0)\n",
    "\n",
    "# # Train the ESN with the training data\n",
    "# crcm.train(data)\n",
    "\n",
    "# # Test the ESN with the test data\n",
    "# U_washout   = data['U_washout']\n",
    "# U_test      = data['U_test']\n",
    "# Y_test      = data['Y_test']\n",
    "\n",
    "# xf = crcm.open_loop(U_washout, np.zeros(200))[-1,: 200]\n",
    "# Y_pred = crcm.open_loop(U_test, xf)\n",
    "\n",
    "# # Plot the error time series for each component\n",
    "# eror_ts = np.abs(Y_test - Y_pred)\n",
    "\n",
    "# for i in range(dim):\n",
    "#     plt.plot(err_ts[:,i], label=f\"Dimension {i+1}\")\n",
    "# plt.title(\"Absolute Error Time Series\")\n",
    "# plt.legend()\n",
    "# plt.xlabel(\"Time Step\")\n",
    "# plt.ylabel(\"Absolute Error\")\n",
    "# plt.show()"
   ]
  },
  {
   "attachments": {},
   "cell_type": "markdown",
   "metadata": {},
   "source": [
    "#### QRCM for Lorenz system"
   ]
  },
  {
   "cell_type": "code",
   "execution_count": null,
   "metadata": {},
   "outputs": [],
   "source": [
    "def train():\n",
    "    with wandb.init() as run:\n",
    "        config = wandb.config\n",
    "\n",
    "        # Define N for washout, training, validation and testing\n",
    "        N_washout       = 50\n",
    "        N_train         = config['N_train']\n",
    "        N_test          = config['N_test']\n",
    "        N_sets          = [N_washout, N_train, N_test]\n",
    "\n",
    "        # Instantiate the solver object\n",
    "        lor3 = Lorentz(params, dt, N_sets)\n",
    "\n",
    "        # Instantiate the QRCM object\n",
    "        qrcm = QRCM(solver  = lor3,\n",
    "                    qubits  = config['qubits'],\n",
    "                    eps     = config['epsilon'],\n",
    "                    tik     = config['tikhonov'])\n",
    "\n",
    "        # Train the QRCM with the training data\n",
    "        qrcm.train(override=True)\n",
    "\n",
    "        # Log data to WandB - can generate plots from this\n",
    "        wandb.log({'Error Time Series': qrcm.err_ts})\n",
    "        wandb.log({'MSE': qrcm.MSE})\n",
    "        wandb.log({'Time': qrcm.time})              # Log the time taken to train the model\n",
    "\n",
    "\n",
    "# Number of runs to execute\n",
    "wandb.agent(sweep_id, function=train, count=100)"
   ]
  }
 ],
 "metadata": {
  "kernelspec": {
   "display_name": "PyTorch Learning",
   "language": "python",
   "name": "python3"
  },
  "language_info": {
   "name": "python",
   "version": "3.7.6"
  },
  "orig_nbformat": 4
 },
 "nbformat": 4,
 "nbformat_minor": 2
}
