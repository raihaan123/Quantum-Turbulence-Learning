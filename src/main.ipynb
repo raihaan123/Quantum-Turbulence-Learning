{
 "cells": [
  {
   "attachments": {},
   "cell_type": "markdown",
   "metadata": {},
   "source": [
    "## Quantum Reservoir Computing for Chaotic Dynamics\n",
    "FYP Masters project by Raihaan Usman"
   ]
  },
  {
   "cell_type": "code",
   "execution_count": 4,
   "metadata": {},
   "outputs": [],
   "source": [
    "from backend.solver import Lorentz, MFE\n",
    "from backend import CRCM, QRCM\n",
    "\n",
    "import numpy as np\n",
    "import wandb\n",
    "import os;  os.environ[\"OMP_NUM_THREADS\"] = '32' # Imposes cores"
   ]
  },
  {
   "attachments": {},
   "cell_type": "markdown",
   "metadata": {},
   "source": [
    "#### Configuration for Lorentz system"
   ]
  },
  {
   "cell_type": "code",
   "execution_count": 8,
   "metadata": {},
   "outputs": [
    {
     "name": "stdout",
     "output_type": "stream",
     "text": [
      "Create sweep with ID: oi98d2qa\n",
      "Sweep URL: https://wandb.ai/raihaan123/Quantum%20Turbulence%20Learning/sweeps/oi98d2qa\n"
     ]
    }
   ],
   "source": [
    "# Set up WandB\n",
    "wandb.login()\n",
    "\n",
    "sweep_config = {\n",
    "    'method'    : 'bayes',\n",
    "    'name'      : 'QRCM sweep',\n",
    "    'metric'    : {\n",
    "        'name'  : 'MSE',\n",
    "        'goal'  : 'minimize'\n",
    "    },\n",
    "    'parameters'    : {\n",
    "        'qubits'    : {'values': [2, 4, 6]},\n",
    "        'epsilon'   : {'min': 0.0, 'max': 1.0},\n",
    "        'tikhonov'  : {'min': 1e-10, 'max': 1e-2},\n",
    "        'N_train'   : {'values': [50, 100, 300, 500, 1000, 2000]},\n",
    "        'N_test'    : {'values': [50, 100, 300, 500, 1000, 2000]}\n",
    "    }\n",
    "}\n",
    "\n",
    "sweep_id = wandb.sweep(sweep_config, project=\"Quantum Turbulence Learning\", entity=\"raihaan123\")\n",
    "\n",
    "# Data generation parameters\n",
    "dim             = 3\n",
    "upsample        = 1                     # To increase the dt of the ESN wrt the numerical integrator\n",
    "dt              = 0.005 * upsample      # Time step\n",
    "params          = [8/3, 28, 10]         # Parameters for the Lorenz system"
   ]
  },
  {
   "attachments": {},
   "cell_type": "markdown",
   "metadata": {},
   "source": [
    "#### CRCM for Lorenz system"
   ]
  },
  {
   "cell_type": "code",
   "execution_count": 9,
   "metadata": {},
   "outputs": [],
   "source": [
    "# # Initialise the ESN\n",
    "# crcm = CRCM(dim=dim,\n",
    "#             N_units=200,\n",
    "#             connectivity=3,\n",
    "#             seed=0)\n",
    "\n",
    "# # Train the ESN with the training data\n",
    "# crcm.train(data)"
   ]
  },
  {
   "attachments": {},
   "cell_type": "markdown",
   "metadata": {},
   "source": [
    "#### QRCM for Lorenz system"
   ]
  },
  {
   "cell_type": "code",
   "execution_count": 10,
   "metadata": {},
   "outputs": [
    {
     "name": "stderr",
     "output_type": "stream",
     "text": [
      "\u001b[34m\u001b[1mwandb\u001b[0m: Agent Starting Run: m61be58n with config:\n",
      "\u001b[34m\u001b[1mwandb\u001b[0m: \tN_test: 500\n",
      "\u001b[34m\u001b[1mwandb\u001b[0m: \tN_train: 300\n",
      "\u001b[34m\u001b[1mwandb\u001b[0m: \tepsilon: 0.5291352435787909\n",
      "\u001b[34m\u001b[1mwandb\u001b[0m: \tqubits: 6\n",
      "\u001b[34m\u001b[1mwandb\u001b[0m: \ttikhonov: 0.0009797388107234625\n",
      "Failed to detect the name of this notebook, you can set it manually with the WANDB_NOTEBOOK_NAME environment variable to enable code saving.\n"
     ]
    },
    {
     "data": {
      "text/html": [
       "Tracking run with wandb version 0.13.10"
      ],
      "text/plain": [
       "<IPython.core.display.HTML object>"
      ]
     },
     "metadata": {},
     "output_type": "display_data"
    },
    {
     "data": {
      "text/html": [
       "Run data is saved locally in <code>c:\\Quantum-Turbulence-Learning\\src\\wandb\\run-20230307_131502-m61be58n</code>"
      ],
      "text/plain": [
       "<IPython.core.display.HTML object>"
      ]
     },
     "metadata": {},
     "output_type": "display_data"
    },
    {
     "data": {
      "text/html": [
       "Syncing run <strong><a href='https://wandb.ai/raihaan123/Quantum%20Turbulence%20Learning/runs/m61be58n' target=\"_blank\">glorious-sweep-1</a></strong> to <a href='https://wandb.ai/raihaan123/Quantum%20Turbulence%20Learning' target=\"_blank\">Weights & Biases</a> (<a href='https://wandb.me/run' target=\"_blank\">docs</a>)<br/>Sweep page: <a href='https://wandb.ai/raihaan123/Quantum%20Turbulence%20Learning/sweeps/oi98d2qa' target=\"_blank\">https://wandb.ai/raihaan123/Quantum%20Turbulence%20Learning/sweeps/oi98d2qa</a>"
      ],
      "text/plain": [
       "<IPython.core.display.HTML object>"
      ]
     },
     "metadata": {},
     "output_type": "display_data"
    },
    {
     "data": {
      "text/html": [
       " View project at <a href='https://wandb.ai/raihaan123/Quantum%20Turbulence%20Learning' target=\"_blank\">https://wandb.ai/raihaan123/Quantum%20Turbulence%20Learning</a>"
      ],
      "text/plain": [
       "<IPython.core.display.HTML object>"
      ]
     },
     "metadata": {},
     "output_type": "display_data"
    },
    {
     "data": {
      "text/html": [
       " View sweep at <a href='https://wandb.ai/raihaan123/Quantum%20Turbulence%20Learning/sweeps/oi98d2qa' target=\"_blank\">https://wandb.ai/raihaan123/Quantum%20Turbulence%20Learning/sweeps/oi98d2qa</a>"
      ],
      "text/plain": [
       "<IPython.core.display.HTML object>"
      ]
     },
     "metadata": {},
     "output_type": "display_data"
    },
    {
     "data": {
      "text/html": [
       " View run at <a href='https://wandb.ai/raihaan123/Quantum%20Turbulence%20Learning/runs/m61be58n' target=\"_blank\">https://wandb.ai/raihaan123/Quantum%20Turbulence%20Learning/runs/m61be58n</a>"
      ],
      "text/plain": [
       "<IPython.core.display.HTML object>"
      ]
     },
     "metadata": {},
     "output_type": "display_data"
    },
    {
     "name": "stderr",
     "output_type": "stream",
     "text": [
      "Washout: 100%|██████████| 50/50 [00:04<00:00, 10.49it/s]\n",
      "Training: 100%|██████████| 299/299 [00:27<00:00, 10.79it/s]\n",
      "Testing: 100%|██████████| 499/499 [00:55<00:00,  8.93it/s]\n"
     ]
    },
    {
     "data": {
      "text/html": [
       "Waiting for W&B process to finish... <strong style=\"color:red\">(failed 1).</strong> Press Ctrl-C to abort syncing."
      ],
      "text/plain": [
       "<IPython.core.display.HTML object>"
      ]
     },
     "metadata": {},
     "output_type": "display_data"
    },
    {
     "data": {
      "text/html": [
       " View run <strong style=\"color:#cdcd00\">glorious-sweep-1</strong> at: <a href='https://wandb.ai/raihaan123/Quantum%20Turbulence%20Learning/runs/m61be58n' target=\"_blank\">https://wandb.ai/raihaan123/Quantum%20Turbulence%20Learning/runs/m61be58n</a><br/>Synced 6 W&B file(s), 0 media file(s), 0 artifact file(s) and 0 other file(s)"
      ],
      "text/plain": [
       "<IPython.core.display.HTML object>"
      ]
     },
     "metadata": {},
     "output_type": "display_data"
    },
    {
     "data": {
      "text/html": [
       "Find logs at: <code>.\\wandb\\run-20230307_131502-m61be58n\\logs</code>"
      ],
      "text/plain": [
       "<IPython.core.display.HTML object>"
      ]
     },
     "metadata": {},
     "output_type": "display_data"
    },
    {
     "name": "stderr",
     "output_type": "stream",
     "text": [
      "Run m61be58n errored: AttributeError(\"'QRCM' object has no attribute 'samp'\")\n",
      "\u001b[34m\u001b[1mwandb\u001b[0m: \u001b[32m\u001b[41mERROR\u001b[0m Run m61be58n errored: AttributeError(\"'QRCM' object has no attribute 'samp'\")\n",
      "\u001b[34m\u001b[1mwandb\u001b[0m: Agent Starting Run: p34tk0ov with config:\n",
      "\u001b[34m\u001b[1mwandb\u001b[0m: \tN_test: 2000\n",
      "\u001b[34m\u001b[1mwandb\u001b[0m: \tN_train: 2000\n",
      "\u001b[34m\u001b[1mwandb\u001b[0m: \tepsilon: 0.66310661443464\n",
      "\u001b[34m\u001b[1mwandb\u001b[0m: \tqubits: 6\n",
      "\u001b[34m\u001b[1mwandb\u001b[0m: \ttikhonov: 0.006329111957502426\n",
      "Failed to detect the name of this notebook, you can set it manually with the WANDB_NOTEBOOK_NAME environment variable to enable code saving.\n"
     ]
    },
    {
     "data": {
      "text/html": [
       "Tracking run with wandb version 0.13.10"
      ],
      "text/plain": [
       "<IPython.core.display.HTML object>"
      ]
     },
     "metadata": {},
     "output_type": "display_data"
    },
    {
     "data": {
      "text/html": [
       "Run data is saved locally in <code>c:\\Quantum-Turbulence-Learning\\src\\wandb\\run-20230307_131644-p34tk0ov</code>"
      ],
      "text/plain": [
       "<IPython.core.display.HTML object>"
      ]
     },
     "metadata": {},
     "output_type": "display_data"
    },
    {
     "data": {
      "text/html": [
       "Syncing run <strong><a href='https://wandb.ai/raihaan123/Quantum%20Turbulence%20Learning/runs/p34tk0ov' target=\"_blank\">twilight-sweep-2</a></strong> to <a href='https://wandb.ai/raihaan123/Quantum%20Turbulence%20Learning' target=\"_blank\">Weights & Biases</a> (<a href='https://wandb.me/run' target=\"_blank\">docs</a>)<br/>Sweep page: <a href='https://wandb.ai/raihaan123/Quantum%20Turbulence%20Learning/sweeps/oi98d2qa' target=\"_blank\">https://wandb.ai/raihaan123/Quantum%20Turbulence%20Learning/sweeps/oi98d2qa</a>"
      ],
      "text/plain": [
       "<IPython.core.display.HTML object>"
      ]
     },
     "metadata": {},
     "output_type": "display_data"
    },
    {
     "data": {
      "text/html": [
       " View project at <a href='https://wandb.ai/raihaan123/Quantum%20Turbulence%20Learning' target=\"_blank\">https://wandb.ai/raihaan123/Quantum%20Turbulence%20Learning</a>"
      ],
      "text/plain": [
       "<IPython.core.display.HTML object>"
      ]
     },
     "metadata": {},
     "output_type": "display_data"
    },
    {
     "data": {
      "text/html": [
       " View sweep at <a href='https://wandb.ai/raihaan123/Quantum%20Turbulence%20Learning/sweeps/oi98d2qa' target=\"_blank\">https://wandb.ai/raihaan123/Quantum%20Turbulence%20Learning/sweeps/oi98d2qa</a>"
      ],
      "text/plain": [
       "<IPython.core.display.HTML object>"
      ]
     },
     "metadata": {},
     "output_type": "display_data"
    },
    {
     "data": {
      "text/html": [
       " View run at <a href='https://wandb.ai/raihaan123/Quantum%20Turbulence%20Learning/runs/p34tk0ov' target=\"_blank\">https://wandb.ai/raihaan123/Quantum%20Turbulence%20Learning/runs/p34tk0ov</a>"
      ],
      "text/plain": [
       "<IPython.core.display.HTML object>"
      ]
     },
     "metadata": {},
     "output_type": "display_data"
    },
    {
     "name": "stderr",
     "output_type": "stream",
     "text": [
      "Washout: 100%|██████████| 50/50 [00:06<00:00,  7.68it/s]\n",
      "Training:  64%|██████▍   | 1276/1999 [02:42<01:26,  8.38it/s]"
     ]
    }
   ],
   "source": [
    "def train():\n",
    "    with wandb.init() as run:\n",
    "        config = wandb.config\n",
    "\n",
    "        # Define N for washout, training, validation and testing\n",
    "        N_washout       = 50\n",
    "        N_train         = config['N_train']\n",
    "        N_test          = config['N_test']\n",
    "        N_sets          = [N_washout, N_train, N_test]\n",
    "\n",
    "        # Instantiate the solver object\n",
    "        lor3 = Lorentz(params, dt, N_sets)\n",
    "\n",
    "        # Instantiate the QRCM object\n",
    "        qrcm = QRCM(solver  = lor3,\n",
    "                    qubits  = config['qubits'],\n",
    "                    eps     = config['epsilon'],\n",
    "                    tik     = config['tikhonov'])\n",
    "\n",
    "        # Train the QRCM with the training data\n",
    "        qrcm.train(override=True)\n",
    "\n",
    "        # Log data to WandB - can generate plots from this\n",
    "        wandb.log({'Error Time Series': qrcm.err_ts})\n",
    "        wandb.log({'MSE': qrcm.MSE})\n",
    "        wandb.log({'Time': qrcm.time})              # Log the time taken to train the model\n",
    "\n",
    "\n",
    "# Number of runs to execute\n",
    "wandb.agent(sweep_id, function=train, count=100)"
   ]
  }
 ],
 "metadata": {
  "kernelspec": {
   "display_name": "PyTorch Learning",
   "language": "python",
   "name": "python3"
  },
  "language_info": {
   "codemirror_mode": {
    "name": "ipython",
    "version": 3
   },
   "file_extension": ".py",
   "mimetype": "text/x-python",
   "name": "python",
   "nbconvert_exporter": "python",
   "pygments_lexer": "ipython3",
   "version": "3.10.9"
  },
  "orig_nbformat": 4
 },
 "nbformat": 4,
 "nbformat_minor": 2
}
