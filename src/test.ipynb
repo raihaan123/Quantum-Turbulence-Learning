{
 "cells": [
  {
   "cell_type": "code",
   "execution_count": 5,
   "metadata": {},
   "outputs": [
    {
     "data": {
      "text/plain": [
       "<matplotlib.colorbar.Colorbar at 0x2afadf22ec8>"
      ]
     },
     "execution_count": 5,
     "metadata": {},
     "output_type": "execute_result"
    },
    {
     "data": {
      "image/png": "[encoded data removed]",
      "text/plain": [
       "<Figure size 720x720 with 2 Axes>"
      ]
     },
     "metadata": {
      "needs_background": "light"
     },
     "output_type": "display_data"
    }
   ],
   "source": [
    "'''\n",
    "We investigate 2D turbulence governed by the incompressible Navier-Stokes equations\n",
    "\n",
    "(1) ∇ · u = 0\n",
    "(2) ∂tu + u · ∇u = −∇p + 1/Re ∆u + f\n",
    "\n",
    "where u = (u, v) is the velocity field, p is the pressure, Re is the Reynolds number, and f is a harmonic volume force defined as f = (sin(k_f*y), 0) in cartesian coordinates.\n",
    "\n",
    "The Navier-Stokes equations are solved on a domain Ω ≡ [0, 2π] × [0, 2π] with periodic boundary conditions.\n",
    "The solution of this problem is also known as the 2D Kolmogorov flow.\n",
    "\n",
    "The flow has a laminar solution u = Re*k_f^(-2)*sin(k_f*y), v = 0, which is unstable for sufficiently large Reynolds numbers and wave numbers k_f.\n",
    "\n",
    "Here, we take kf = 4 and Re = 30 to guarantee the development of a turbulent solution.\n",
    "\n",
    "The set of Equations above are solved on a uniform N × N grid, with N = 24, using a pseudo-spectral\n",
    "code with explicit Euler in time with a timestep, ∆t = 0.01, to ensure numerical stability.\n",
    "\n",
    "'''\n",
    "\n",
    "import numpy as np\n",
    "import matplotlib.pyplot as plt\n",
    "import matplotlib.animation as animation\n",
    "from matplotlib import rc\n",
    "rc('animation', html='jshtml')\n",
    "plt.style.use('seaborn-pastel')\n",
    "\n",
    "N = 24\n",
    "L = 2*np.pi\n",
    "h = L/N\n",
    "k = 2*np.pi/L\n",
    "x = np.arange(0, L, h)\n",
    "y = np.arange(0, L, h)\n",
    "[X, Y] = np.meshgrid(x, y)\n",
    "kx = np.arange(-N/2, N/2)*k\n",
    "ky = np.arange(-N/2, N/2)*k\n",
    "[KX, KY] = np.meshgrid(kx, ky)\n",
    "KX = np.fft.fftshift(KX)\n",
    "KY = np.fft.fftshift(KY)\n",
    "K2 = KX**2 + KY**2\n",
    "K2[0, 0] = 1\n",
    "K4 = K2**2\n",
    "Kf = 4\n",
    "Re = 30\n",
    "\n",
    "u = np.zeros((N, N))\n",
    "v = np.zeros((N, N))\n",
    "u_hat = np.zeros((N, N), dtype=complex)\n",
    "v_hat = np.zeros((N, N), dtype=complex)\n",
    "p = np.zeros((N, N))\n",
    "p_hat = np.zeros((N, N), dtype=complex)\n",
    "f = np.zeros((N, N))\n",
    "f_hat = np.zeros((N, N), dtype=complex)\n",
    "f_hat[int(N/2), int(N/2)] = np.sin(Kf*Y[int(N/2), int(N/2)])*np.exp(-Kf**2*Re/4)\n",
    "t = 0\n",
    "dt = 0.01\n",
    "tmax = 100\n",
    "\n",
    "fig = plt.figure(figsize=(10, 10))\n",
    "ax = fig.add_subplot(111)\n",
    "ax.set_xlim(0, 2*np.pi)\n",
    "ax.set_ylim(0, 2*np.pi)\n",
    "im = ax.imshow(u, cmap='jet', vmin=-0.1, vmax=0.1, animated=True)\n",
    "plt.colorbar(im)"
   ]
  }
 ],
 "metadata": {
  "kernelspec": {
   "display_name": "Python 3.7.6 ('PyTorch Learning')",
   "language": "python",
   "name": "python3"
  },
  "language_info": {
   "codemirror_mode": {
    "name": "ipython",
    "version": 3
   },
   "file_extension": ".py",
   "mimetype": "text/x-python",
   "name": "python",
   "nbconvert_exporter": "python",
   "pygments_lexer": "ipython3",
   "version": "3.7.6"
  },
  "orig_nbformat": 4,
  "vscode": {
   "interpreter": {
    "hash": "c003fc70db3176c10438a4c604d3694780f731c3bb83c5c847f76489751692b4"
   }
  }
 },
 "nbformat": 4,
 "nbformat_minor": 2
}
